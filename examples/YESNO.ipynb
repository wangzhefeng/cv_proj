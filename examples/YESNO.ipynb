{
 "cells": [
  {
   "cell_type": "code",
   "execution_count": 25,
   "id": "peripheral-given",
   "metadata": {},
   "outputs": [],
   "source": [
    "# Setup\n",
    "\n",
    "# Local\n",
    "# pip install torchaudio\n",
    "\n",
    "# Google Colab\n",
    "# !pip install torchaudio"
   ]
  },
  {
   "cell_type": "code",
   "execution_count": 23,
   "id": "reserved-navigation",
   "metadata": {},
   "outputs": [],
   "source": [
    "import matplotlib.pyplot as plt\n",
    "import torch\n",
    "from torch.utils.data import DataLoader\n",
    "import torchaudio"
   ]
  },
  {
   "cell_type": "code",
   "execution_count": 27,
   "id": "potential-county",
   "metadata": {},
   "outputs": [
    {
     "name": "stdout",
     "output_type": "stream",
     "text": [
      "Waveform: tensor([[ 3.0518e-05,  6.1035e-05,  3.0518e-05,  ..., -1.8311e-04,\n",
      "          4.2725e-04,  6.7139e-04]])\n",
      "Sample rate: 8000\n",
      "Labels: [0, 0, 1, 0, 0, 0, 1, 0]\n"
     ]
    }
   ],
   "source": [
    "# access the data in dataset\n",
    "yesno_data = torchaudio.datasets.YESNO(\n",
    "    root = \"/Users/zfwang/machinelearning/datasets/pytorch_data/\",\n",
    "    url = 'http://www.openslr.org/resources/1/waves_yesno.tar.gz',\n",
    "    folder_in_archive = 'waves_yesno',\n",
    "    download = True\n",
    ")\n",
    "\n",
    "n = 3\n",
    "waveform, sample_rate, labels = yesno_data[n]\n",
    "print(f\"Waveform: {waveform}\\nSample rate: {sample_rate}\\nLabels: {labels}\")"
   ]
  },
  {
   "cell_type": "code",
   "execution_count": 20,
   "id": "digital-packing",
   "metadata": {},
   "outputs": [],
   "source": [
    "# loading the data\n",
    "data_loader = torch.utils.data.DataLoader(yesno_data, batch_size = 1, shuffle = True)"
   ]
  },
  {
   "cell_type": "code",
   "execution_count": 28,
   "id": "referenced-pathology",
   "metadata": {},
   "outputs": [
    {
     "name": "stdout",
     "output_type": "stream",
     "text": [
      "Data: [tensor([[[-7.0190e-04, -6.1035e-05,  1.2207e-04,  ...,  4.7607e-03,\n",
      "           7.0496e-03,  7.1106e-03]]]), tensor([8000]), [tensor([0]), tensor([0]), tensor([1]), tensor([1]), tensor([1]), tensor([0]), tensor([0]), tensor([0])]]\n",
      "[[-7.0190430e-04 -6.1035156e-05  1.2207031e-04 ...  4.7607422e-03\n",
      "   7.0495605e-03  7.1105957e-03]]\n",
      "Waveform: tensor([[[-7.0190e-04, -6.1035e-05,  1.2207e-04,  ...,  4.7607e-03,\n",
      "           7.0496e-03,  7.1106e-03]]]) \n",
      "Sample rate: tensor([8000])\n",
      "Labels: [tensor([0]), tensor([0]), tensor([1]), tensor([1]), tensor([1]), tensor([0]), tensor([0]), tensor([0])]\n"
     ]
    }
   ],
   "source": [
    "# iterate over the data\n",
    "for data in data_loader:\n",
    "    print(f\"Data: {data}\")\n",
    "    print(f\"Waveform: {data[0]} \\nSample rate: {data[1]}\\nLabels: {data[2]}\")\n",
    "    break"
   ]
  },
  {
   "cell_type": "code",
   "execution_count": 24,
   "id": "sharing-beverage",
   "metadata": {},
   "outputs": [
    {
     "name": "stdout",
     "output_type": "stream",
     "text": [
      "[[ 3.0517578e-05  6.1035156e-05  3.0517578e-05 ... -1.9836426e-03\n",
      "  -2.1057129e-03 -1.4648438e-03]]\n"
     ]
    },
    {
     "data": {
      "text/plain": [
       "[<matplotlib.lines.Line2D at 0x115753850>]"
      ]
     },
     "execution_count": 24,
     "metadata": {},
     "output_type": "execute_result"
    },
    {
     "data": {
      "image/png": "[encoded data removed]",
      "text/plain": [
       "<Figure size 432x288 with 1 Axes>"
      ]
     },
     "metadata": {
      "needs_background": "light"
     },
     "output_type": "display_data"
    }
   ],
   "source": [
    "# visualize the data\n",
    "plt.figure()\n",
    "plt.plot(waveform.t().numpy())"
   ]
  }
 ],
 "metadata": {
  "kernelspec": {
   "display_name": "Python 3",
   "language": "python",
   "name": "python3"
  },
  "language_info": {
   "codemirror_mode": {
    "name": "ipython",
    "version": 3
   },
   "file_extension": ".py",
   "mimetype": "text/x-python",
   "name": "python",
   "nbconvert_exporter": "python",
   "pygments_lexer": "ipython3",
   "version": "3.7.10"
  }
 },
 "nbformat": 4,
 "nbformat_minor": 5
}
