{
 "cells": [
  {
   "cell_type": "markdown",
   "id": "professional-appearance",
   "metadata": {},
   "source": [
    "# 1.Setup"
   ]
  },
  {
   "cell_type": "code",
   "execution_count": 30,
   "id": "incorrect-syria",
   "metadata": {},
   "outputs": [],
   "source": [
    "from IPython.core.interactiveshell import InteractiveShell\n",
    "InteractiveShell.ast_node_interactivity = \"all\""
   ]
  },
  {
   "cell_type": "code",
   "execution_count": 1,
   "id": "surface-strengthening",
   "metadata": {},
   "outputs": [
    {
     "name": "stdout",
     "output_type": "stream",
     "text": [
      "False\n",
      "1.9.1\n"
     ]
    }
   ],
   "source": [
    "# utils\n",
    "import matplotlib.pyplot as plt\n",
    "# torch\n",
    "import torch\n",
    "import torch.nn as nn\n",
    "from torch.utils.data import Dataset, DataLoader\n",
    "import torch.optim as optim\n",
    "# torchvision\n",
    "import torchvision\n",
    "from torchvision import datasets\n",
    "from torchvision.transforms import ToTensor, Lambda, Compose\n",
    "\n",
    "print(torch.cuda.is_available())\n",
    "print(torch.__version__)"
   ]
  },
  {
   "cell_type": "markdown",
   "id": "excess-medline",
   "metadata": {},
   "source": [
    "# 2.数据、模型全局变量"
   ]
  },
  {
   "cell_type": "code",
   "execution_count": 25,
   "id": "cordless-security",
   "metadata": {},
   "outputs": [
    {
     "name": "stdout",
     "output_type": "stream",
     "text": [
      "Using cpu device\n"
     ]
    }
   ],
   "source": [
    "# 超参数\n",
    "learning_rate = 1e-3\n",
    "batch_size = 64\n",
    "epochs = 5\n",
    "\n",
    "# get cpu or gpu device for training\n",
    "device = \"cuda\" if torch.cuda.is_available() else \"cpu\"\n",
    "print(f\"Using {device} device\")"
   ]
  },
  {
   "cell_type": "markdown",
   "id": "intelligent-karma",
   "metadata": {},
   "source": [
    "# 3.数据下载、加载"
   ]
  },
  {
   "cell_type": "markdown",
   "id": "collected-lawyer",
   "metadata": {},
   "source": [
    "## 3.1 数据下载"
   ]
  },
  {
   "cell_type": "code",
   "execution_count": 18,
   "id": "growing-receptor",
   "metadata": {},
   "outputs": [],
   "source": [
    "training_data = datasets.FashionMNIST(\n",
    "    root = \"~/Datasets/FashionMNIST\",\n",
    "    train = True,\n",
    "    download = False,\n",
    "    transform = ToTensor(),\n",
    ")\n",
    "test_data = datasets.FashionMNIST(\n",
    "    root = \"~/Datasets/FashionMNIST\",\n",
    "    train = False,\n",
    "    download = True,\n",
    "    transform = ToTensor(),\n",
    ")"
   ]
  },
  {
   "cell_type": "markdown",
   "id": "guided-separation",
   "metadata": {},
   "source": [
    "## 3.2 数据加载--创建 data loader"
   ]
  },
  {
   "cell_type": "code",
   "execution_count": 19,
   "id": "middle-castle",
   "metadata": {},
   "outputs": [],
   "source": [
    "train_dataloader = DataLoader(\n",
    "    training_data, \n",
    "    batch_size = batch_size, \n",
    "    shuffle = True\n",
    ")#, num_workers = args.nThreads)\n",
    "test_dataloader = DataLoader(\n",
    "    test_data, \n",
    "    batch_size = batch_size, \n",
    "    shuffle = False\n",
    ")#, num_workers = args.nThreads)"
   ]
  },
  {
   "cell_type": "code",
   "execution_count": 21,
   "id": "annual-sellers",
   "metadata": {},
   "outputs": [
    {
     "name": "stdout",
     "output_type": "stream",
     "text": [
      "Shape of X_train [N, C, H, W]: torch.Size([64, 1, 28, 28])\n",
      "Shape of y_train: torch.Size([64]), torch.int64\n"
     ]
    }
   ],
   "source": [
    "for X_train, y_train in train_dataloader:\n",
    "    print(f\"Shape of X_train [N, C, H, W]: {X_train.shape}\")\n",
    "    print(f\"Shape of y_train: {y_train.shape}, {y_train.dtype}\")\n",
    "    break"
   ]
  },
  {
   "cell_type": "markdown",
   "id": "identified-dallas",
   "metadata": {},
   "source": [
    "# 4.模型构建"
   ]
  },
  {
   "cell_type": "markdown",
   "id": "understood-hawaii",
   "metadata": {},
   "source": [
    "## 4.1 模型构建"
   ]
  },
  {
   "cell_type": "code",
   "execution_count": 35,
   "id": "apparent-tiffany",
   "metadata": {},
   "outputs": [],
   "source": [
    "class NeuralNetwork(nn.Module):\n",
    "    def __init__(self):\n",
    "        super(NeuralNetwork, self).__init__()\n",
    "        self.flatten = nn.Flatten()\n",
    "        self.linear_relu_stack = nn.Sequential(\n",
    "            nn.Linear(X_train.shape[2] * X_train.shape[3], 512),\n",
    "            nn.ReLU(),\n",
    "            nn.Linear(512, 512),\n",
    "            nn.ReLU(),\n",
    "            nn.Linear(512, 10),\n",
    "        )\n",
    "    \n",
    "    def forward(self, x):\n",
    "        x = self.flatten(x)\n",
    "        logits = self.linear_relu_stack(x)\n",
    "        \n",
    "        return logits"
   ]
  },
  {
   "cell_type": "code",
   "execution_count": 36,
   "id": "compliant-farming",
   "metadata": {},
   "outputs": [
    {
     "name": "stdout",
     "output_type": "stream",
     "text": [
      "NeuralNetwork(\n",
      "  (flatten): Flatten(start_dim=1, end_dim=-1)\n",
      "  (linear_relu_stack): Sequential(\n",
      "    (0): Linear(in_features=784, out_features=512, bias=True)\n",
      "    (1): ReLU()\n",
      "    (2): Linear(in_features=512, out_features=512, bias=True)\n",
      "    (3): ReLU()\n",
      "    (4): Linear(in_features=512, out_features=10, bias=True)\n",
      "  )\n",
      ")\n"
     ]
    }
   ],
   "source": [
    "model = NeuralNetwork().to(device)\n",
    "print(model)"
   ]
  },
  {
   "cell_type": "markdown",
   "id": "varied-affiliation",
   "metadata": {},
   "source": [
    "## 4.2 模型训练"
   ]
  },
  {
   "cell_type": "code",
   "execution_count": 44,
   "id": "delayed-moscow",
   "metadata": {},
   "outputs": [],
   "source": [
    "# 损失函数\n",
    "loss_fn = nn.CrossEntropyLoss()\n",
    "\n",
    "# 优化算法\n",
    "optimizer =  optim.SGD(model.parameters(), lr = learning_rate)\n",
    "\n",
    "\n",
    "def train(dataloader, model, loss_fn, optimizer):\n",
    "    \"\"\"\n",
    "    In a single training loop, the model makes predictions \n",
    "    on the training dataset (fed to it in batches), \n",
    "    and backpropagates the prediction error to adjust \n",
    "    the model’s parameters.\n",
    "    \"\"\"\n",
    "    size = len(dataloader.dataset)\n",
    "    model.train()\n",
    "    for batch, (X, y) in enumerate(dataloader):\n",
    "        X, y = X.to(device), y.to(device)\n",
    "        # 计算预测误差\n",
    "        pred = model(X)\n",
    "        loss = loss_fn(pred, y)\n",
    "        # 后向传播\n",
    "        optimizer.zero_grad()\n",
    "        loss.backward()\n",
    "        optimizer.step()\n",
    "        \n",
    "        if batch % 100 == 0:\n",
    "            loss, current = loss.item(), batch * len(X)\n",
    "            print(f\"loss: {loss:>7f} [{current:>5d}/{size:>5d}]\")\n",
    "\n",
    "\n",
    "def test(dataloader, model, loss_fn):\n",
    "    \"\"\"\n",
    "    check the model’s performance against \n",
    "    the test dataset to ensure it is learning\n",
    "    \"\"\"\n",
    "    size = len(dataloader.dataset)\n",
    "    num_batches = len(dataloader)\n",
    "    model.eval()\n",
    "    test_loss, correct = 0, 0\n",
    "    with torch.no_grad():\n",
    "        for X, y in dataloader:\n",
    "            # 将数据移动到设备上\n",
    "            X, y = X.to(device), y.to(device)\n",
    "            # 计算累计测试误差\n",
    "            pred = model(X)\n",
    "            test_loss += loss_fn(pred, y).item()\n",
    "            correct += (pred.argmax(1) == y).type(torch.float).sum().item()\n",
    "    test_loss /= num_batches\n",
    "    correct /= size\n",
    "    print(f\"Test Error: Accuracy: {(100 * correct):>0.1f}%, Avg loss: {test_loss:>8f} \\n\")"
   ]
  },
  {
   "cell_type": "code",
   "execution_count": 45,
   "id": "personal-lincoln",
   "metadata": {},
   "outputs": [
    {
     "name": "stdout",
     "output_type": "stream",
     "text": [
      "Epoch 1 ---------------------------\n",
      "loss: 2.307063 [    0/60000]\n",
      "loss: 2.283336 [ 6400/60000]\n",
      "loss: 2.277623 [12800/60000]\n",
      "loss: 2.270706 [19200/60000]\n",
      "loss: 2.242836 [25600/60000]\n",
      "loss: 2.227749 [32000/60000]\n",
      "loss: 2.226338 [38400/60000]\n",
      "loss: 2.223214 [44800/60000]\n",
      "loss: 2.196446 [51200/60000]\n",
      "loss: 2.187925 [57600/60000]\n",
      "Test Error: Accuracy: 47.4%, Avg loss: 2.155148 \n",
      "\n",
      "Epoch 2 ---------------------------\n",
      "loss: 2.144556 [    0/60000]\n",
      "loss: 2.127807 [ 6400/60000]\n",
      "loss: 2.104260 [12800/60000]\n",
      "loss: 2.061341 [19200/60000]\n",
      "loss: 2.081207 [25600/60000]\n",
      "loss: 2.046627 [32000/60000]\n",
      "loss: 2.015819 [38400/60000]\n",
      "loss: 1.973440 [44800/60000]\n",
      "loss: 1.945907 [51200/60000]\n",
      "loss: 1.937383 [57600/60000]\n",
      "Test Error: Accuracy: 57.2%, Avg loss: 1.889818 \n",
      "\n",
      "Epoch 3 ---------------------------\n",
      "loss: 1.885061 [    0/60000]\n",
      "loss: 1.821127 [ 6400/60000]\n",
      "loss: 1.811453 [12800/60000]\n",
      "loss: 1.711759 [19200/60000]\n",
      "loss: 1.652731 [25600/60000]\n",
      "loss: 1.650425 [32000/60000]\n",
      "loss: 1.621689 [38400/60000]\n",
      "loss: 1.636291 [44800/60000]\n",
      "loss: 1.596678 [51200/60000]\n",
      "loss: 1.576585 [57600/60000]\n",
      "Test Error: Accuracy: 60.4%, Avg loss: 1.518674 \n",
      "\n",
      "Epoch 4 ---------------------------\n",
      "loss: 1.456891 [    0/60000]\n",
      "loss: 1.497670 [ 6400/60000]\n",
      "loss: 1.453918 [12800/60000]\n",
      "loss: 1.460786 [19200/60000]\n",
      "loss: 1.343330 [25600/60000]\n",
      "loss: 1.444561 [32000/60000]\n",
      "loss: 1.389739 [38400/60000]\n",
      "loss: 1.402472 [44800/60000]\n",
      "loss: 1.295944 [51200/60000]\n",
      "loss: 1.246258 [57600/60000]\n",
      "Test Error: Accuracy: 62.9%, Avg loss: 1.250385 \n",
      "\n",
      "Epoch 5 ---------------------------\n",
      "loss: 1.202330 [    0/60000]\n",
      "loss: 1.217727 [ 6400/60000]\n",
      "loss: 1.099724 [12800/60000]\n",
      "loss: 1.184220 [19200/60000]\n",
      "loss: 1.218844 [25600/60000]\n",
      "loss: 1.153345 [32000/60000]\n",
      "loss: 1.105812 [38400/60000]\n",
      "loss: 1.170282 [44800/60000]\n",
      "loss: 1.169858 [51200/60000]\n",
      "loss: 1.076707 [57600/60000]\n",
      "Test Error: Accuracy: 65.2%, Avg loss: 1.085066 \n",
      "\n",
      "Done!\n"
     ]
    }
   ],
   "source": [
    "for t in range(epochs):\n",
    "    print(f\"Epoch {t + 1} ---------------------------\")\n",
    "    train(train_dataloader, model, loss_fn, optimizer)\n",
    "    test(test_dataloader, model, loss_fn)\n",
    "print(\"Done!\")"
   ]
  },
  {
   "cell_type": "markdown",
   "id": "encouraging-wonder",
   "metadata": {},
   "source": [
    "## 4.3 模型保存"
   ]
  },
  {
   "cell_type": "code",
   "execution_count": 48,
   "id": "opposed-nightlife",
   "metadata": {},
   "outputs": [
    {
     "name": "stdout",
     "output_type": "stream",
     "text": [
      "Saved PyTorch Model State to model.pth.\n"
     ]
    }
   ],
   "source": [
    "torch.save(model.state_dict(), \"./model/model.pth\")\n",
    "print(\"Saved PyTorch Model State to model.pth.\")"
   ]
  },
  {
   "cell_type": "markdown",
   "id": "relevant-image",
   "metadata": {},
   "source": [
    "# 5.模型重载、预测"
   ]
  },
  {
   "cell_type": "markdown",
   "id": "industrial-universe",
   "metadata": {},
   "source": [
    "## 5.1 模型重载"
   ]
  },
  {
   "cell_type": "code",
   "execution_count": 49,
   "id": "civil-basketball",
   "metadata": {},
   "outputs": [
    {
     "data": {
      "text/plain": [
       "<All keys matched successfully>"
      ]
     },
     "execution_count": 49,
     "metadata": {},
     "output_type": "execute_result"
    }
   ],
   "source": [
    "model = NeuralNetwork()\n",
    "model.load_state_dict(torch.load(\"./model/model.pth\"))"
   ]
  },
  {
   "cell_type": "markdown",
   "id": "substantial-round",
   "metadata": {},
   "source": [
    "## 5.2 模型预测"
   ]
  },
  {
   "cell_type": "code",
   "execution_count": 59,
   "id": "million-infrastructure",
   "metadata": {},
   "outputs": [
    {
     "name": "stdout",
     "output_type": "stream",
     "text": [
      "tensor([[-2.0782, -2.5635, -1.0011, -1.9565, -1.0447,  2.4286, -1.1340,  2.7147,\n",
      "          1.7693,  2.9568]])\n",
      "tensor(9)\n",
      "Predicted: 'Ankle boot', Actual: 'Ankle boot'\n"
     ]
    }
   ],
   "source": [
    "classes = [\n",
    "    \"T-shirt/top\",\n",
    "    \"Trouser\",\n",
    "    \"Pullover\",\n",
    "    \"Dress\",\n",
    "    \"Coat\",\n",
    "    \"Sandal\",\n",
    "    \"Shirt\",\n",
    "    \"Sneaker\",\n",
    "    \"Bag\",\n",
    "    \"Ankle boot\",\n",
    "]\n",
    "model.eval()\n",
    "X, y = test_data[0][0], test_data[0][1]\n",
    "with torch.no_grad():\n",
    "    pred = model(X)\n",
    "    print(pred)\n",
    "    print(pred[0].argmax(0))\n",
    "    predicted, actual = classes[pred[0].argmax(0)], classes[y]\n",
    "    print(f\"Predicted: '{predicted}', Actual: '{actual}'\")"
   ]
  },
  {
   "cell_type": "code",
   "execution_count": 72,
   "id": "thrown-rover",
   "metadata": {},
   "outputs": [
    {
     "name": "stdout",
     "output_type": "stream",
     "text": [
      "tensor([[ 0.9922],\n",
      "        [-0.4266],\n",
      "        [-1.1973],\n",
      "        [ 0.1428],\n",
      "        [-0.9913],\n",
      "        [ 1.0354],\n",
      "        [ 0.3422],\n",
      "        [ 1.0472],\n",
      "        [ 1.7108],\n",
      "        [ 0.7771]])\n",
      "torch.Size([10, 1])\n",
      "tensor([8])\n",
      "tensor([0, 0, 0, 0, 0, 0, 0, 0, 0, 0])\n"
     ]
    }
   ],
   "source": [
    "b = torch.randn(10, 1)\n",
    "print(b)\n",
    "print(b.size())\n",
    "print(b.argmax(0))\n",
    "print(b.argmax(1))"
   ]
  },
  {
   "cell_type": "code",
   "execution_count": 73,
   "id": "answering-muslim",
   "metadata": {},
   "outputs": [
    {
     "name": "stdout",
     "output_type": "stream",
     "text": [
      "tensor([[ 0.5218, -0.4220,  0.0992, -1.2034,  0.7426, -0.8680, -1.5766,  0.3354,\n",
      "         -1.5546, -0.0171]])\n",
      "torch.Size([1, 10])\n",
      "tensor([0, 0, 0, 0, 0, 0, 0, 0, 0, 0])\n",
      "tensor([4])\n"
     ]
    }
   ],
   "source": [
    "b = torch.randn(1, 10)\n",
    "print(b)\n",
    "print(b.size())\n",
    "print(b.argmax(0))\n",
    "print(b.argmax(1))"
   ]
  },
  {
   "cell_type": "code",
   "execution_count": null,
   "id": "confused-april",
   "metadata": {},
   "outputs": [],
   "source": []
  }
 ],
 "metadata": {
  "kernelspec": {
   "display_name": "pytorch",
   "language": "python",
   "name": "python3"
  },
  "language_info": {
   "codemirror_mode": {
    "name": "ipython",
    "version": 3
   },
   "file_extension": ".py",
   "mimetype": "text/x-python",
   "name": "python",
   "nbconvert_exporter": "python",
   "pygments_lexer": "ipython3",
   "version": "3.7.10 (default, Mar  6 2021, 16:49:05) \n[Clang 12.0.0 (clang-1200.0.32.29)]"
  },
  "vscode": {
   "interpreter": {
    "hash": "4b1b1fe44047e5240378d701df40aa149094e7eee15f7b3336589fd4ae32ec78"
   }
  }
 },
 "nbformat": 4,
 "nbformat_minor": 5
}
