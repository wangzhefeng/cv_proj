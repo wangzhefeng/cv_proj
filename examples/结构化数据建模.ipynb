{
 "cells": [
  {
   "cell_type": "code",
   "execution_count": 10,
   "id": "detected-witness",
   "metadata": {},
   "outputs": [
    {
     "name": "stdout",
     "output_type": "stream",
     "text": [
      "torch.__version__=1.9.1\n"
     ]
    }
   ],
   "source": [
    "# 载入 Python 依赖库\n",
    "import os\n",
    "# mac 系统上 PyTorch 和 Matplotlib 在 Jupyter 中同时跑需要更改环境变量\n",
    "os.environ[\"KMP_DUPLICATE_LIB_OK\"] = \"TRUE\"\n",
    "\n",
    "import numpy as np\n",
    "import pandas as pd\n",
    "import matplotlib.pyplot as plt\n",
    "%matplotlib inline\n",
    "%config InlineBackend.figure_format = \"png\"\n",
    "# %config InlineBackend.figure_format = \"svg\"\n",
    "\n",
    "import torch\n",
    "from torch import nn\n",
    "from torch.utils.data import Dataset, DataLoader, TensorDataset\n",
    "print(f\"torch.__version__={torch.__version__}\")\n",
    "\n",
    "from torchkeras.kerasmodel import KerasModel\n",
    "from torchkeras.utils.plot_metrics import plot_metrics\n",
    "from torchkeras.metrics import Accuracy"
   ]
  },
  {
   "cell_type": "code",
   "execution_count": 5,
   "id": "rubber-chorus",
   "metadata": {},
   "outputs": [
    {
     "name": "stdout",
     "output_type": "stream",
     "text": [
      "   PassengerId  Survived  Pclass  \\\n",
      "0          493         0       1   \n",
      "1           53         1       1   \n",
      "2          388         1       2   \n",
      "3          192         0       2   \n",
      "4          687         0       3   \n",
      "5           16         1       2   \n",
      "6          228         0       3   \n",
      "7          884         0       2   \n",
      "8          168         0       3   \n",
      "9          752         1       3   \n",
      "\n",
      "                                              Name     Sex   Age  SibSp  \\\n",
      "0                       Molson, Mr. Harry Markland    male  55.0      0   \n",
      "1         Harper, Mrs. Henry Sleeper (Myna Haxtun)  female  49.0      1   \n",
      "2                                 Buss, Miss. Kate  female  36.0      0   \n",
      "3                            Carbines, Mr. William    male  19.0      0   \n",
      "4                         Panula, Mr. Jaako Arnold    male  14.0      4   \n",
      "5                 Hewlett, Mrs. (Mary D Kingcome)   female  55.0      0   \n",
      "6                  Lovell, Mr. John Hall (\"Henry\")    male  20.5      0   \n",
      "7                    Banfield, Mr. Frederick James    male  28.0      0   \n",
      "8  Skoog, Mrs. William (Anna Bernhardina Karlsson)  female  45.0      1   \n",
      "9                              Moor, Master. Meier    male   6.0      0   \n",
      "\n",
      "   Parch            Ticket     Fare Cabin Embarked  \n",
      "0      0            113787  30.5000   C30        S  \n",
      "1      0          PC 17572  76.7292   D33        C  \n",
      "2      0             27849  13.0000   NaN        S  \n",
      "3      0             28424  13.0000   NaN        S  \n",
      "4      1           3101295  39.6875   NaN        S  \n",
      "5      0            248706  16.0000   NaN        S  \n",
      "6      0         A/5 21173   7.2500   NaN        S  \n",
      "7      0  C.A./SOTON 34068  10.5000   NaN        S  \n",
      "8      4            347088  27.9000   NaN        S  \n",
      "9      1            392096  12.4750  E121        S  \n",
      "<class 'pandas.core.frame.DataFrame'>\n",
      "RangeIndex: 712 entries, 0 to 711\n",
      "Data columns (total 12 columns):\n",
      " #   Column       Non-Null Count  Dtype  \n",
      "---  ------       --------------  -----  \n",
      " 0   PassengerId  712 non-null    int64  \n",
      " 1   Survived     712 non-null    int64  \n",
      " 2   Pclass       712 non-null    int64  \n",
      " 3   Name         712 non-null    object \n",
      " 4   Sex          712 non-null    object \n",
      " 5   Age          566 non-null    float64\n",
      " 6   SibSp        712 non-null    int64  \n",
      " 7   Parch        712 non-null    int64  \n",
      " 8   Ticket       712 non-null    object \n",
      " 9   Fare         712 non-null    float64\n",
      " 10  Cabin        168 non-null    object \n",
      " 11  Embarked     710 non-null    object \n",
      "dtypes: float64(2), int64(5), object(5)\n",
      "memory usage: 66.9+ KB\n",
      "None\n"
     ]
    }
   ],
   "source": [
    "# 数据读取、查看\n",
    "df_train_raw = pd.read_csv(\"./data/titanic/train.csv\")\n",
    "df_test_raw = pd.read_csv(\"./data/titanic/test.csv\")\n",
    "print(df_train_raw.head(10))\n",
    "print(df_train_raw.info())"
   ]
  },
  {
   "cell_type": "code",
   "execution_count": 6,
   "id": "strong-broadcasting",
   "metadata": {},
   "outputs": [
    {
     "name": "stdout",
     "output_type": "stream",
     "text": [
      "x_train.shape=(712, 15)\n",
      "x_test.shape=(179, 15)\n",
      "y_train.shape=(712, 1)\n",
      "y_test.shape=(179, 1)\n"
     ]
    }
   ],
   "source": [
    "# 数据预处理\n",
    "def preprocessing(data):\n",
    "    data_result = pd.DataFrame()\n",
    "\n",
    "    # Pclass one-hot 编码\n",
    "    Pclass = pd.get_dummies(data[\"Pclass\"])\n",
    "    Pclass.columns = [\"Pclass_\" + str(x) for x in Pclass.columns]\n",
    "    data_result = pd.concat([data_result, Pclass], axis = 1)\n",
    "\n",
    "    # Sex  bool 编码\n",
    "    Sex = pd.get_dummies(data[\"Sex\"])\n",
    "    data_result = pd.concat([data_result, Sex], axis = 1)\n",
    "    \n",
    "    # Age 添加是否缺失作为辅助特征\n",
    "    data_result[\"Age\"] = data[\"Age\"].fillna(0)\n",
    "    data_result[\"Age_null\"] = pd.isna(data[\"Age\"]).astype(\"int32\")\n",
    "    \n",
    "    # SibSp, Parch, Fare\n",
    "    data_result[\"SibSp\"] = data[\"SibSp\"]\n",
    "    data_result[\"Parch\"] = data[\"Parch\"]\n",
    "    data_result[\"Fare\"] = data[\"Fare\"]\n",
    "    \n",
    "    # Cabin 添加所在船舱是否缺失作为辅助特征\n",
    "    data_result[\"Cabin\"] = pd.isna(data[\"Cabin\"]).astype(\"int32\")\n",
    "    \n",
    "    # Embarked one-hot 编码，四维度 S,C,Q,nan\n",
    "    Embarked = pd.get_dummies(data[\"Embarked\"], dummy_na = True)\n",
    "    Embarked.columns = [\"Embarked_\" + str(x) for x in Embarked.columns]\n",
    "    data_result = pd.concat([data_result, Embarked], axis = 1)\n",
    "    \n",
    "    return data_result\n",
    "\n",
    "x_train = preprocessing(df_train_raw).values\n",
    "y_train = df_train_raw[[\"Survived\"]].values\n",
    "\n",
    "x_test = preprocessing(df_test_raw).values\n",
    "y_test = df_test_raw[[\"Survived\"]].values\n",
    "\n",
    "print(f\"x_train.shape={x_train.shape}\")\n",
    "print(f\"x_test.shape={x_test.shape}\")\n",
    "\n",
    "print(f\"y_train.shape={y_train.shape}\")\n",
    "print(f\"y_test.shape={y_test.shape}\")"
   ]
  },
  {
   "cell_type": "code",
   "execution_count": 7,
   "id": "occupied-technical",
   "metadata": {},
   "outputs": [
    {
     "name": "stdout",
     "output_type": "stream",
     "text": [
      "tensor([[  1.0000,   0.0000,   0.0000,   0.0000,   1.0000,  27.0000,   0.0000,\n",
      "           0.0000,   2.0000, 211.5000,   0.0000,   1.0000,   0.0000,   0.0000,\n",
      "           0.0000],\n",
      "        [  0.0000,   0.0000,   1.0000,   0.0000,   1.0000,  39.0000,   0.0000,\n",
      "           0.0000,   0.0000,  24.1500,   1.0000,   0.0000,   0.0000,   1.0000,\n",
      "           0.0000],\n",
      "        [  0.0000,   0.0000,   1.0000,   0.0000,   1.0000,  33.0000,   0.0000,\n",
      "           0.0000,   0.0000,   7.8958,   1.0000,   1.0000,   0.0000,   0.0000,\n",
      "           0.0000],\n",
      "        [  1.0000,   0.0000,   0.0000,   1.0000,   0.0000,  52.0000,   0.0000,\n",
      "           1.0000,   0.0000,  78.2667,   0.0000,   1.0000,   0.0000,   0.0000,\n",
      "           0.0000],\n",
      "        [  1.0000,   0.0000,   0.0000,   0.0000,   1.0000,  36.0000,   0.0000,\n",
      "           0.0000,   1.0000, 512.3292,   0.0000,   1.0000,   0.0000,   0.0000,\n",
      "           0.0000],\n",
      "        [  0.0000,   0.0000,   1.0000,   0.0000,   1.0000,   0.0000,   1.0000,\n",
      "           0.0000,   0.0000,   7.7500,   1.0000,   0.0000,   1.0000,   0.0000,\n",
      "           0.0000],\n",
      "        [  0.0000,   0.0000,   1.0000,   1.0000,   0.0000,   4.0000,   0.0000,\n",
      "           1.0000,   1.0000,  16.7000,   0.0000,   0.0000,   0.0000,   1.0000,\n",
      "           0.0000],\n",
      "        [  0.0000,   1.0000,   0.0000,   0.0000,   1.0000,  42.0000,   0.0000,\n",
      "           1.0000,   0.0000,  27.0000,   1.0000,   0.0000,   0.0000,   1.0000,\n",
      "           0.0000]]) tensor([[0.],\n",
      "        [0.],\n",
      "        [0.],\n",
      "        [1.],\n",
      "        [1.],\n",
      "        [0.],\n",
      "        [1.],\n",
      "        [0.]])\n"
     ]
    }
   ],
   "source": [
    "# 使用 DataLoader 和 TensorDataset 封装成可以迭代的数据管道\n",
    "dl_train = DataLoader(\n",
    "    TensorDataset(\n",
    "        torch.tensor(x_train).float(),\n",
    "        torch.tensor(y_train).float(),\n",
    "    ),\n",
    "    shuffle = True,\n",
    "    batch_size = 8,\n",
    ")\n",
    "dl_validate = DataLoader(\n",
    "    TensorDataset(\n",
    "        torch.tensor(x_test).float(),\n",
    "        torch.tensor(y_test).float(),\n",
    "    ),\n",
    "    shuffle = False,\n",
    "    batch_size = 8,\n",
    ")\n",
    "\n",
    "# 数据管道测试\n",
    "for features, labels in dl_train:\n",
    "    print(features, labels)\n",
    "    break"
   ]
  },
  {
   "cell_type": "code",
   "execution_count": 8,
   "id": "exposed-highland",
   "metadata": {},
   "outputs": [
    {
     "name": "stdout",
     "output_type": "stream",
     "text": [
      "Sequential(\n",
      "  (linear1): Linear(in_features=15, out_features=20, bias=True)\n",
      "  (relu1): ReLU()\n",
      "  (linear2): Linear(in_features=20, out_features=15, bias=True)\n",
      "  (relu2): ReLU()\n",
      "  (linear3): Linear(in_features=15, out_features=1, bias=True)\n",
      ")\n"
     ]
    }
   ],
   "source": [
    "# 定义模型\n",
    "def create_net():\n",
    "    net = nn.Sequential()\n",
    "    net.add_module(\"linear1\", nn.Linear(15, 20))\n",
    "    net.add_module(\"relu1\", nn.ReLU())\n",
    "    net.add_module(\"linear2\", nn.Linear(20, 15))\n",
    "    net.add_module(\"relu2\", nn.ReLU())\n",
    "    net.add_module(\"linear3\", nn.Linear(15, 1))\n",
    "    return net\n",
    "\n",
    "net = create_net()\n",
    "print(net)"
   ]
  },
  {
   "cell_type": "code",
   "execution_count": 11,
   "id": "finnish-register",
   "metadata": {},
   "outputs": [
    {
     "name": "stderr",
     "output_type": "stream",
     "text": [
      "/Users/wangzf/.pyenv/versions/3.7.10/envs/pytorch/lib/python3.7/site-packages/torchmetrics/utilities/prints.py:36: UserWarning: Torchmetrics v0.9 introduced a new argument class property called `full_state_update` that has\n",
      "                not been set for this class (Accuracy). The property determines if `update` by\n",
      "                default needs access to the full metric state. If this is not the case, significant speedups can be\n",
      "                achieved and we recommend setting this to `False`.\n",
      "                We provide an checking function\n",
      "                `from torchmetrics.utilities import check_forward_full_state_property`\n",
      "                that can be used to check if the `full_state_update=True` (old and potential slower behaviour,\n",
      "                default for now) or if `full_state_update=False` can be used safely.\n",
      "                \n",
      "  warnings.warn(*args, **kwargs)\n",
      " 45%|████▍     | 40/89 [00:00<00:00, 393.69it/s, train_acc=0.625, train_loss=0.519]"
     ]
    },
    {
     "name": "stdout",
     "output_type": "stream",
     "text": [
      "\n",
      "================================================================================2022-08-30 22:29:04\n",
      "Epoch 1 / 20\n",
      "\n"
     ]
    },
    {
     "name": "stderr",
     "output_type": "stream",
     "text": [
      "100%|██████████| 89/89 [00:00<00:00, 413.51it/s, train_acc=0.681, train_loss=0.636]\n",
      "100%|██████████| 23/23 [00:00<00:00, 675.79it/s, val_acc=0.737, val_loss=0.54]\n",
      "<<<<<< reach best val_acc : 0.7374301552772522 >>>>>>\n",
      " 47%|████▋     | 42/89 [00:00<00:00, 414.54it/s, train_acc=0.875, train_loss=0.385]"
     ]
    },
    {
     "name": "stdout",
     "output_type": "stream",
     "text": [
      "\n",
      "================================================================================2022-08-30 22:29:04\n",
      "Epoch 2 / 20\n",
      "\n"
     ]
    },
    {
     "name": "stderr",
     "output_type": "stream",
     "text": [
      "100%|██████████| 89/89 [00:00<00:00, 435.95it/s, train_acc=0.747, train_loss=0.537]\n",
      "100%|██████████| 23/23 [00:00<00:00, 500.52it/s, val_acc=0.715, val_loss=0.539]\n",
      "100%|██████████| 89/89 [00:00<00:00, 512.94it/s, train_acc=0.778, train_loss=0.513]\n",
      "  0%|          | 0/23 [00:00<?, ?it/s, val_acc=0.875, val_loss=0.378]"
     ]
    },
    {
     "name": "stdout",
     "output_type": "stream",
     "text": [
      "\n",
      "================================================================================2022-08-30 22:29:04\n",
      "Epoch 3 / 20\n",
      "\n"
     ]
    },
    {
     "name": "stderr",
     "output_type": "stream",
     "text": [
      "100%|██████████| 23/23 [00:00<00:00, 657.84it/s, val_acc=0.754, val_loss=0.516]\n",
      "<<<<<< reach best val_acc : 0.7541899681091309 >>>>>>\n",
      "100%|██████████| 89/89 [00:00<00:00, 473.08it/s, train_acc=0.787, train_loss=0.511]\n",
      "  0%|          | 0/23 [00:00<?, ?it/s, val_acc=0.75, val_loss=0.603] "
     ]
    },
    {
     "name": "stdout",
     "output_type": "stream",
     "text": [
      "\n",
      "================================================================================2022-08-30 22:29:05\n",
      "Epoch 4 / 20\n",
      "\n"
     ]
    },
    {
     "name": "stderr",
     "output_type": "stream",
     "text": [
      "100%|██████████| 23/23 [00:00<00:00, 661.37it/s, val_acc=0.777, val_loss=0.422]\n",
      "<<<<<< reach best val_acc : 0.7765362858772278 >>>>>>\n",
      "100%|██████████| 89/89 [00:00<00:00, 469.33it/s, train_acc=0.809, train_loss=0.455]\n",
      "  0%|          | 0/23 [00:00<?, ?it/s, val_acc=0.75, val_loss=0.49]  "
     ]
    },
    {
     "name": "stdout",
     "output_type": "stream",
     "text": [
      "\n",
      "================================================================================2022-08-30 22:29:05\n",
      "Epoch 5 / 20\n",
      "\n"
     ]
    },
    {
     "name": "stderr",
     "output_type": "stream",
     "text": [
      "100%|██████████| 23/23 [00:00<00:00, 636.56it/s, val_acc=0.821, val_loss=0.434]\n",
      "<<<<<< reach best val_acc : 0.8212290406227112 >>>>>>\n",
      " 45%|████▍     | 40/89 [00:00<00:00, 394.74it/s, train_acc=0.875, train_loss=0.322]"
     ]
    },
    {
     "name": "stdout",
     "output_type": "stream",
     "text": [
      "\n",
      "================================================================================2022-08-30 22:29:05\n",
      "Epoch 6 / 20\n",
      "\n"
     ]
    },
    {
     "name": "stderr",
     "output_type": "stream",
     "text": [
      "100%|██████████| 89/89 [00:00<00:00, 432.31it/s, train_acc=0.802, train_loss=0.457]\n",
      "100%|██████████| 23/23 [00:00<00:00, 596.83it/s, val_acc=0.782, val_loss=0.462]\n",
      "100%|██████████| 89/89 [00:00<00:00, 476.94it/s, train_acc=0.802, train_loss=0.47] \n",
      "  0%|          | 0/23 [00:00<?, ?it/s, val_acc=0.625, val_loss=0.69] "
     ]
    },
    {
     "name": "stdout",
     "output_type": "stream",
     "text": [
      "\n",
      "================================================================================2022-08-30 22:29:05\n",
      "Epoch 7 / 20\n",
      "\n"
     ]
    },
    {
     "name": "stderr",
     "output_type": "stream",
     "text": [
      "100%|██████████| 23/23 [00:00<00:00, 641.21it/s, val_acc=0.754, val_loss=0.53]\n",
      "100%|██████████| 89/89 [00:00<00:00, 464.76it/s, train_acc=0.792, train_loss=0.467]\n",
      "  0%|          | 0/23 [00:00<?, ?it/s, val_acc=0.875, val_loss=0.441]"
     ]
    },
    {
     "name": "stdout",
     "output_type": "stream",
     "text": [
      "\n",
      "================================================================================2022-08-30 22:29:06\n",
      "Epoch 8 / 20\n",
      "\n"
     ]
    },
    {
     "name": "stderr",
     "output_type": "stream",
     "text": [
      "100%|██████████| 23/23 [00:00<00:00, 659.86it/s, val_acc=0.81, val_loss=0.425]\n",
      "100%|██████████| 89/89 [00:00<00:00, 493.92it/s, train_acc=0.802, train_loss=0.461]\n",
      "  0%|          | 0/23 [00:00<?, ?it/s, val_acc=0.75, val_loss=0.691] "
     ]
    },
    {
     "name": "stdout",
     "output_type": "stream",
     "text": [
      "\n",
      "================================================================================2022-08-30 22:29:06\n",
      "Epoch 9 / 20\n",
      "\n"
     ]
    },
    {
     "name": "stderr",
     "output_type": "stream",
     "text": [
      "100%|██████████| 23/23 [00:00<00:00, 720.11it/s, val_acc=0.799, val_loss=0.491]\n",
      "100%|██████████| 89/89 [00:00<00:00, 489.57it/s, train_acc=0.822, train_loss=0.443]\n",
      "  0%|          | 0/23 [00:00<?, ?it/s, val_acc=1, val_loss=0.179]    "
     ]
    },
    {
     "name": "stdout",
     "output_type": "stream",
     "text": [
      "\n",
      "================================================================================2022-08-30 22:29:06\n",
      "Epoch 10 / 20\n",
      "\n"
     ]
    },
    {
     "name": "stderr",
     "output_type": "stream",
     "text": [
      "100%|██████████| 23/23 [00:00<00:00, 691.36it/s, val_acc=0.821, val_loss=0.413]\n",
      "<<<<<< val_acc without improvement in 5 epoch, early stopping >>>>>>\n"
     ]
    }
   ],
   "source": [
    "# 训练模型\n",
    "kerasmodel = KerasModel(\n",
    "    net = net,\n",
    "    loss_fn = nn.BCEWithLogitsLoss(),\n",
    "    optimizer = torch.optim.Adam(net.parameters(), lr = 0.01),\n",
    "    metrics_dict = {\"acc\": Accuracy()},\n",
    ")\n",
    "history_df = kerasmodel.fit(\n",
    "    train_data = dl_train,\n",
    "    validate_data = dl_validate,\n",
    "    epochs = 20,\n",
    "    ckpt_path = \"./torchcheckpoint/checkpoint.pt\",\n",
    "    patience = 5,\n",
    "    monitor = \"val_acc\",\n",
    "    mode = \"max\",\n",
    ")"
   ]
  },
  {
   "cell_type": "code",
   "execution_count": 12,
   "id": "remarkable-glory",
   "metadata": {},
   "outputs": [
    {
     "data": {
      "text/html": [
       "<div>\n",
       "<style scoped>\n",
       "    .dataframe tbody tr th:only-of-type {\n",
       "        vertical-align: middle;\n",
       "    }\n",
       "\n",
       "    .dataframe tbody tr th {\n",
       "        vertical-align: top;\n",
       "    }\n",
       "\n",
       "    .dataframe thead th {\n",
       "        text-align: right;\n",
       "    }\n",
       "</style>\n",
       "<table border=\"1\" class=\"dataframe\">\n",
       "  <thead>\n",
       "    <tr style=\"text-align: right;\">\n",
       "      <th></th>\n",
       "      <th>train_loss</th>\n",
       "      <th>train_acc</th>\n",
       "      <th>val_loss</th>\n",
       "      <th>val_acc</th>\n",
       "      <th>epoch</th>\n",
       "    </tr>\n",
       "  </thead>\n",
       "  <tbody>\n",
       "    <tr>\n",
       "      <th>0</th>\n",
       "      <td>0.635530</td>\n",
       "      <td>0.681180</td>\n",
       "      <td>0.540052</td>\n",
       "      <td>0.737430</td>\n",
       "      <td>1</td>\n",
       "    </tr>\n",
       "    <tr>\n",
       "      <th>1</th>\n",
       "      <td>0.536681</td>\n",
       "      <td>0.747191</td>\n",
       "      <td>0.539105</td>\n",
       "      <td>0.715084</td>\n",
       "      <td>2</td>\n",
       "    </tr>\n",
       "    <tr>\n",
       "      <th>2</th>\n",
       "      <td>0.512580</td>\n",
       "      <td>0.778090</td>\n",
       "      <td>0.515708</td>\n",
       "      <td>0.754190</td>\n",
       "      <td>3</td>\n",
       "    </tr>\n",
       "    <tr>\n",
       "      <th>3</th>\n",
       "      <td>0.511247</td>\n",
       "      <td>0.786517</td>\n",
       "      <td>0.421547</td>\n",
       "      <td>0.776536</td>\n",
       "      <td>4</td>\n",
       "    </tr>\n",
       "    <tr>\n",
       "      <th>4</th>\n",
       "      <td>0.455210</td>\n",
       "      <td>0.808989</td>\n",
       "      <td>0.433660</td>\n",
       "      <td>0.821229</td>\n",
       "      <td>5</td>\n",
       "    </tr>\n",
       "    <tr>\n",
       "      <th>5</th>\n",
       "      <td>0.457026</td>\n",
       "      <td>0.801966</td>\n",
       "      <td>0.462014</td>\n",
       "      <td>0.782123</td>\n",
       "      <td>6</td>\n",
       "    </tr>\n",
       "    <tr>\n",
       "      <th>6</th>\n",
       "      <td>0.470381</td>\n",
       "      <td>0.801966</td>\n",
       "      <td>0.530170</td>\n",
       "      <td>0.754190</td>\n",
       "      <td>7</td>\n",
       "    </tr>\n",
       "    <tr>\n",
       "      <th>7</th>\n",
       "      <td>0.467406</td>\n",
       "      <td>0.792135</td>\n",
       "      <td>0.425298</td>\n",
       "      <td>0.810056</td>\n",
       "      <td>8</td>\n",
       "    </tr>\n",
       "    <tr>\n",
       "      <th>8</th>\n",
       "      <td>0.461230</td>\n",
       "      <td>0.801966</td>\n",
       "      <td>0.490840</td>\n",
       "      <td>0.798883</td>\n",
       "      <td>9</td>\n",
       "    </tr>\n",
       "    <tr>\n",
       "      <th>9</th>\n",
       "      <td>0.442517</td>\n",
       "      <td>0.821629</td>\n",
       "      <td>0.412648</td>\n",
       "      <td>0.821229</td>\n",
       "      <td>10</td>\n",
       "    </tr>\n",
       "  </tbody>\n",
       "</table>\n",
       "</div>"
      ],
      "text/plain": [
       "   train_loss  train_acc  val_loss   val_acc  epoch\n",
       "0    0.635530   0.681180  0.540052  0.737430      1\n",
       "1    0.536681   0.747191  0.539105  0.715084      2\n",
       "2    0.512580   0.778090  0.515708  0.754190      3\n",
       "3    0.511247   0.786517  0.421547  0.776536      4\n",
       "4    0.455210   0.808989  0.433660  0.821229      5\n",
       "5    0.457026   0.801966  0.462014  0.782123      6\n",
       "6    0.470381   0.801966  0.530170  0.754190      7\n",
       "7    0.467406   0.792135  0.425298  0.810056      8\n",
       "8    0.461230   0.801966  0.490840  0.798883      9\n",
       "9    0.442517   0.821629  0.412648  0.821229     10"
      ]
     },
     "execution_count": 12,
     "metadata": {},
     "output_type": "execute_result"
    }
   ],
   "source": [
    "# ---------------------------------------\n",
    "# 评估模型\n",
    "# ---------------------------------------\n",
    "history_df"
   ]
  },
  {
   "cell_type": "code",
   "execution_count": 14,
   "id": "level-shopping",
   "metadata": {},
   "outputs": [
    {
     "data": {
      "image/png": "[encoded data removed]",
      "text/plain": [
       "<Figure size 432x288 with 1 Axes>"
      ]
     },
     "metadata": {
      "needs_background": "light"
     },
     "output_type": "display_data"
    }
   ],
   "source": [
    "plot_metrics(history_df, \"loss\")"
   ]
  },
  {
   "cell_type": "code",
   "execution_count": 15,
   "id": "fluid-estonia",
   "metadata": {},
   "outputs": [
    {
     "data": {
      "image/png": "[encoded data removed]",
      "text/plain": [
       "<Figure size 432x288 with 1 Axes>"
      ]
     },
     "metadata": {
      "needs_background": "light"
     },
     "output_type": "display_data"
    }
   ],
   "source": [
    "plot_metrics(history_df, \"acc\")"
   ]
  },
  {
   "cell_type": "code",
   "execution_count": 19,
   "id": "corporate-swimming",
   "metadata": {},
   "outputs": [
    {
     "data": {
      "text/plain": [
       "tensor([[0.2334],\n",
       "        [0.7151],\n",
       "        [0.3749],\n",
       "        [0.8815],\n",
       "        [0.5871],\n",
       "        [0.8797],\n",
       "        [0.1440],\n",
       "        [0.8141],\n",
       "        [0.5037],\n",
       "        [0.2207]])"
      ]
     },
     "execution_count": 19,
     "metadata": {},
     "output_type": "execute_result"
    }
   ],
   "source": [
    "# 使用模型\n",
    "## 预测概率\n",
    "y_pred_probs = torch.sigmoid(net(torch.tensor(x_test[0:10]).float())).data\n",
    "y_pred_probs"
   ]
  },
  {
   "cell_type": "code",
   "execution_count": 20,
   "id": "charged-desperate",
   "metadata": {},
   "outputs": [
    {
     "data": {
      "text/plain": [
       "tensor([[0.],\n",
       "        [1.],\n",
       "        [0.],\n",
       "        [1.],\n",
       "        [1.],\n",
       "        [1.],\n",
       "        [0.],\n",
       "        [1.],\n",
       "        [1.],\n",
       "        [0.]])"
      ]
     },
     "execution_count": 20,
     "metadata": {},
     "output_type": "execute_result"
    }
   ],
   "source": [
    "## 预测类别\n",
    "y_pred = torch.where(\n",
    "    y_pred_probs > 0.5, \n",
    "    torch.ones_like(y_pred_probs),\n",
    "    torch.zeros_like(y_pred_probs),\n",
    ")\n",
    "y_pred"
   ]
  },
  {
   "cell_type": "code",
   "execution_count": 18,
   "id": "described-forge",
   "metadata": {},
   "outputs": [
    {
     "name": "stdout",
     "output_type": "stream",
     "text": [
      "odict_keys(['linear1.weight', 'linear1.bias', 'linear2.weight', 'linear2.bias', 'linear3.weight', 'linear3.bias'])\n"
     ]
    }
   ],
   "source": [
    "# 保存模型\n",
    "print(net.state_dict().keys())"
   ]
  },
  {
   "cell_type": "code",
   "execution_count": 21,
   "id": "strategic-drain",
   "metadata": {},
   "outputs": [
    {
     "data": {
      "text/plain": [
       "tensor([[0.2334],\n",
       "        [0.7151],\n",
       "        [0.3749],\n",
       "        [0.8815],\n",
       "        [0.5871],\n",
       "        [0.8797],\n",
       "        [0.1440],\n",
       "        [0.8141],\n",
       "        [0.5037],\n",
       "        [0.2207]])"
      ]
     },
     "execution_count": 21,
     "metadata": {},
     "output_type": "execute_result"
    }
   ],
   "source": [
    "# 保存模型参数\n",
    "torch.save(net.state_dict(), \"./torchmodels/net_parameter_titanic.pt\")\n",
    "net_clone = create_net()\n",
    "net_clone.load_state_dict(torch.load(\"./torchmodels/net_parameter_titanic.pt\"))\n",
    "torch.sigmoid(net_clone.forward(torch.tensor(x_test[0:10]).float())).data"
   ]
  },
  {
   "cell_type": "code",
   "execution_count": 22,
   "id": "cooperative-hazard",
   "metadata": {},
   "outputs": [
    {
     "data": {
      "text/plain": [
       "tensor([[0.2334],\n",
       "        [0.7151],\n",
       "        [0.3749],\n",
       "        [0.8815],\n",
       "        [0.5871],\n",
       "        [0.8797],\n",
       "        [0.1440],\n",
       "        [0.8141],\n",
       "        [0.5037],\n",
       "        [0.2207]])"
      ]
     },
     "execution_count": 22,
     "metadata": {},
     "output_type": "execute_result"
    }
   ],
   "source": [
    "# 保存完整模型\n",
    "torch.save(net, \"./torchmodels/net_model_titanic.pt\")\n",
    "net_loaded = torch.load(\"./torchmodels/net_model_titanic.pt\")\n",
    "torch.sigmoid(net_loaded(torch.tensor(x_test[0:10]).float())).data"
   ]
  }
 ],
 "metadata": {
  "kernelspec": {
   "display_name": "Python 3.7.10 64-bit ('pytorch')",
   "language": "python",
   "name": "python3"
  },
  "language_info": {
   "codemirror_mode": {
    "name": "ipython",
    "version": 3
   },
   "file_extension": ".py",
   "mimetype": "text/x-python",
   "name": "python",
   "nbconvert_exporter": "python",
   "pygments_lexer": "ipython3",
   "version": "3.7.10"
  },
  "vscode": {
   "interpreter": {
    "hash": "4b1b1fe44047e5240378d701df40aa149094e7eee15f7b3336589fd4ae32ec78"
   }
  }
 },
 "nbformat": 4,
 "nbformat_minor": 5
}
