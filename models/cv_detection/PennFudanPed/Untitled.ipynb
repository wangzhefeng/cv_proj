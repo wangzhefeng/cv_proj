{
 "cells": [
  {
   "cell_type": "markdown",
   "id": "reduced-special",
   "metadata": {},
   "source": [
    "* object detection\n",
    "* instance segmentation\n",
    "* person keypoint detection"
   ]
  },
  {
   "cell_type": "code",
   "execution_count": 1,
   "id": "aging-entertainment",
   "metadata": {},
   "outputs": [],
   "source": [
    "import os\n",
    "import numpy as np\n",
    "\n",
    "import torch\n",
    "from PIL import Image"
   ]
  },
  {
   "cell_type": "markdown",
   "id": "infinite-impression",
   "metadata": {},
   "source": [
    "# 定义数据集"
   ]
  },
  {
   "cell_type": "markdown",
   "id": "blind-johns",
   "metadata": {},
   "source": [
    "- image `[H, W]`\n",
    "- target:\n",
    "    `{\n",
    "        \"boxes\": \n",
    "        \"labels\":\n",
    "        \"image_id\":\n",
    "        \"area\":\n",
    "        \"iscrowd\":\n",
    "        \"masks\":\n",
    "        \"keypoints\":\n",
    "    }`"
   ]
  },
  {
   "cell_type": "code",
   "execution_count": null,
   "id": "increased-inflation",
   "metadata": {},
   "outputs": [],
   "source": []
  }
 ],
 "metadata": {
  "kernelspec": {
   "display_name": "Python 3",
   "language": "python",
   "name": "python3"
  },
  "language_info": {
   "codemirror_mode": {
    "name": "ipython",
    "version": 3
   },
   "file_extension": ".py",
   "mimetype": "text/x-python",
   "name": "python",
   "nbconvert_exporter": "python",
   "pygments_lexer": "ipython3",
   "version": "3.7.10"
  }
 },
 "nbformat": 4,
 "nbformat_minor": 5
}
