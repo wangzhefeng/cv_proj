{
 "cells": [
  {
   "cell_type": "code",
   "execution_count": 1,
   "id": "owned-portfolio",
   "metadata": {},
   "outputs": [],
   "source": [
    "import torch\n",
    "from torch import nn, Tensor\n",
    "import torch.nn.functional as F\n",
    "import torch.optim as optim"
   ]
  },
  {
   "cell_type": "markdown",
   "id": "guilty-province",
   "metadata": {},
   "source": [
    "# 1.定义神经网络"
   ]
  },
  {
   "cell_type": "code",
   "execution_count": 2,
   "id": "julian-words",
   "metadata": {},
   "outputs": [],
   "source": [
    "class NetA(nn.Module):\n",
    "    \n",
    "    def __init__(self):\n",
    "        super(NetA, self).__init__()\n",
    "        self.conv1 = nn.Conv2d(3, 6, 5)\n",
    "        self.pool = nn.MaxPool2d(2, 2)\n",
    "        self.conv2 = nn.Conv2d(6, 16, 5)\n",
    "        self.fc1 = nn.Linear(16 * 5 * 5, 120)\n",
    "        self.fc2 = nn.Linear(120, 84)\n",
    "        self.fc3 = nn.Linear(84, 10)\n",
    "    \n",
    "    def forward(self, x):\n",
    "        x = self.pool(F.relu(self.conv1(x)))\n",
    "        x = self.pool(F.relu(self.conv2(x)))\n",
    "        x = x.view(-1, 16 * 5 * 5)\n",
    "        x = F.relu(self.fc1(x))\n",
    "        x = F.relu(self.fc2(x))\n",
    "        x = self.fc3(x)\n",
    "        \n",
    "        return x\n",
    "    \n",
    "class NetB(nn.Module):\n",
    "    \n",
    "    def __init__(self):\n",
    "        super(NetB, self).__init__()\n",
    "        self.conv1 = nn.Conv2d(3, 6, 5)\n",
    "        self.pool = nn.MaxPool2d(2, 2)\n",
    "        self.conv2 = nn.Conv2d(6, 16, 5)\n",
    "        self.fc1 = nn.Linear(16 * 5 * 5, 120)\n",
    "        self.fc2 = nn.Linear(120, 84)\n",
    "        self.fc3 = nn.Linear(84, 10)\n",
    "    \n",
    "    def forward(self, x):\n",
    "        x = self.pool(F.relu(self.conv1(x)))\n",
    "        x = self.pool(F.relu(self.conv2(x)))\n",
    "        x = x.view(-1, 16 * 5 * 5)\n",
    "        x = F.relu(self.fc1(x))\n",
    "        x = F.relu(self.fc2(x))\n",
    "        x = self.fc3(x)\n",
    "        \n",
    "        return x"
   ]
  },
  {
   "cell_type": "markdown",
   "id": "recorded-turkey",
   "metadata": {},
   "source": [
    "# 2.初始化神经网络实例"
   ]
  },
  {
   "cell_type": "code",
   "execution_count": 3,
   "id": "packed-saskatchewan",
   "metadata": {},
   "outputs": [
    {
     "name": "stdout",
     "output_type": "stream",
     "text": [
      "Model:\n",
      "==========\n",
      " NetA(\n",
      "  (conv1): Conv2d(3, 6, kernel_size=(5, 5), stride=(1, 1))\n",
      "  (pool): MaxPool2d(kernel_size=2, stride=2, padding=0, dilation=1, ceil_mode=False)\n",
      "  (conv2): Conv2d(6, 16, kernel_size=(5, 5), stride=(1, 1))\n",
      "  (fc1): Linear(in_features=400, out_features=120, bias=True)\n",
      "  (fc2): Linear(in_features=120, out_features=84, bias=True)\n",
      "  (fc3): Linear(in_features=84, out_features=10, bias=True)\n",
      ")\n"
     ]
    }
   ],
   "source": [
    "# model\n",
    "net = NetA()\n",
    "print(f\"Model:\\n==========\\n {net}\")"
   ]
  },
  {
   "cell_type": "markdown",
   "id": "southwest-hardwood",
   "metadata": {},
   "source": [
    "# 3.初始化优化器"
   ]
  },
  {
   "cell_type": "code",
   "execution_count": 4,
   "id": "spatial-press",
   "metadata": {},
   "outputs": [
    {
     "name": "stdout",
     "output_type": "stream",
     "text": [
      "Optimizer:\n",
      "==========\n",
      " SGD (\n",
      "Parameter Group 0\n",
      "    dampening: 0\n",
      "    lr: 0.001\n",
      "    momentum: 0.9\n",
      "    nesterov: False\n",
      "    weight_decay: 0\n",
      ")\n"
     ]
    }
   ],
   "source": [
    "# initialize optimizer\n",
    "optimizer = optim.SGD(net.parameters(), lr = 0.001, momentum = 0.9)\n",
    "print(f\"Optimizer:\\n==========\\n {optimizer}\")"
   ]
  },
  {
   "cell_type": "markdown",
   "id": "objective-pleasure",
   "metadata": {},
   "source": [
    "# 4.state_dict"
   ]
  },
  {
   "cell_type": "markdown",
   "id": "rural-fabric",
   "metadata": {},
   "source": [
    "## 4.1 net.state_dict()"
   ]
  },
  {
   "cell_type": "code",
   "execution_count": 5,
   "id": "altered-championship",
   "metadata": {},
   "outputs": [
    {
     "name": "stdout",
     "output_type": "stream",
     "text": [
      "Model's state_dict:\n",
      "======================\n",
      "conv1.weight, \t, torch.Size([6, 3, 5, 5])\n",
      "conv1.bias, \t, torch.Size([6])\n",
      "conv2.weight, \t, torch.Size([16, 6, 5, 5])\n",
      "conv2.bias, \t, torch.Size([16])\n",
      "fc1.weight, \t, torch.Size([120, 400])\n",
      "fc1.bias, \t, torch.Size([120])\n",
      "fc2.weight, \t, torch.Size([84, 120])\n",
      "fc2.bias, \t, torch.Size([84])\n",
      "fc3.weight, \t, torch.Size([10, 84])\n",
      "fc3.bias, \t, torch.Size([10])\n"
     ]
    }
   ],
   "source": [
    "# print model's state_dict\n",
    "print(\"Model's state_dict:\\n======================\")\n",
    "for param_tensor in net.state_dict():\n",
    "    print(f\"{param_tensor}, \\t, {net.state_dict()[param_tensor].size()}\")"
   ]
  },
  {
   "cell_type": "markdown",
   "id": "generic-steering",
   "metadata": {},
   "source": [
    "### 4.2 optimizer.state_dict()"
   ]
  },
  {
   "cell_type": "code",
   "execution_count": 6,
   "id": "satisfactory-newton",
   "metadata": {},
   "outputs": [
    {
     "name": "stdout",
     "output_type": "stream",
     "text": [
      "Optimizer's state_dict:\n",
      "=======================\n",
      "state \t, {}\n",
      "param_groups \t, [{'lr': 0.001, 'momentum': 0.9, 'dampening': 0, 'weight_decay': 0, 'nesterov': False, 'params': [0, 1, 2, 3, 4, 5, 6, 7, 8, 9]}]\n"
     ]
    }
   ],
   "source": [
    "# print optimizer's state_dict\n",
    "print(\"Optimizer's state_dict:\\n=======================\")\n",
    "for var_name in optimizer.state_dict():\n",
    "    print(f\"{var_name} \\t, {optimizer.state_dict()[var_name]}\")"
   ]
  },
  {
   "cell_type": "markdown",
   "id": "dirty-gathering",
   "metadata": {},
   "source": [
    "# 5.保存、加载模型"
   ]
  },
  {
   "cell_type": "markdown",
   "id": "ranging-photographer",
   "metadata": {},
   "source": [
    "## 5.1 保存、加载用于推理的模型"
   ]
  },
  {
   "cell_type": "markdown",
   "id": "comparable-flight",
   "metadata": {},
   "source": [
    "### 5.1.1 保存、加载模型 state_dict"
   ]
  },
  {
   "cell_type": "code",
   "execution_count": 7,
   "id": "disciplinary-choir",
   "metadata": {},
   "outputs": [],
   "source": [
    "PATH = \"./models/state_dict_model.pt\""
   ]
  },
  {
   "cell_type": "code",
   "execution_count": 8,
   "id": "naval-motivation",
   "metadata": {},
   "outputs": [],
   "source": [
    "# model save\n",
    "torch.save(net.state_dict(), PATH)"
   ]
  },
  {
   "cell_type": "code",
   "execution_count": 9,
   "id": "advised-shopper",
   "metadata": {},
   "outputs": [
    {
     "data": {
      "text/plain": [
       "NetA(\n",
       "  (conv1): Conv2d(3, 6, kernel_size=(5, 5), stride=(1, 1))\n",
       "  (pool): MaxPool2d(kernel_size=2, stride=2, padding=0, dilation=1, ceil_mode=False)\n",
       "  (conv2): Conv2d(6, 16, kernel_size=(5, 5), stride=(1, 1))\n",
       "  (fc1): Linear(in_features=400, out_features=120, bias=True)\n",
       "  (fc2): Linear(in_features=120, out_features=84, bias=True)\n",
       "  (fc3): Linear(in_features=84, out_features=10, bias=True)\n",
       ")"
      ]
     },
     "execution_count": 9,
     "metadata": {},
     "output_type": "execute_result"
    }
   ],
   "source": [
    "# model load\n",
    "model = NetA()\n",
    "model.load_state_dict(torch.load(PATH)) # 必须在将保存的 state_dict 传递给 load_state_dict 之前反序列化它\n",
    "model.eval()"
   ]
  },
  {
   "cell_type": "markdown",
   "id": "driven-plastic",
   "metadata": {},
   "source": [
    "### 5.1.2 保存、加载整个模型"
   ]
  },
  {
   "cell_type": "code",
   "execution_count": 10,
   "id": "positive-reputation",
   "metadata": {},
   "outputs": [],
   "source": [
    "PATH = \"./models/entire_model.pt\""
   ]
  },
  {
   "cell_type": "code",
   "execution_count": 11,
   "id": "fallen-lighter",
   "metadata": {},
   "outputs": [],
   "source": [
    "# model save\n",
    "torch.save(net, PATH)"
   ]
  },
  {
   "cell_type": "code",
   "execution_count": 12,
   "id": "activated-leave",
   "metadata": {},
   "outputs": [
    {
     "data": {
      "text/plain": [
       "NetA(\n",
       "  (conv1): Conv2d(3, 6, kernel_size=(5, 5), stride=(1, 1))\n",
       "  (pool): MaxPool2d(kernel_size=2, stride=2, padding=0, dilation=1, ceil_mode=False)\n",
       "  (conv2): Conv2d(6, 16, kernel_size=(5, 5), stride=(1, 1))\n",
       "  (fc1): Linear(in_features=400, out_features=120, bias=True)\n",
       "  (fc2): Linear(in_features=120, out_features=84, bias=True)\n",
       "  (fc3): Linear(in_features=84, out_features=10, bias=True)\n",
       ")"
      ]
     },
     "execution_count": 12,
     "metadata": {},
     "output_type": "execute_result"
    }
   ],
   "source": [
    "# model load\n",
    "model = torch.load(PATH)\n",
    "model.eval()"
   ]
  },
  {
   "cell_type": "markdown",
   "id": "diverse-amsterdam",
   "metadata": {},
   "source": [
    "## 5.2 保存和加载常规 checkpoint"
   ]
  },
  {
   "cell_type": "code",
   "execution_count": 13,
   "id": "aging-apple",
   "metadata": {},
   "outputs": [],
   "source": [
    "PATH = \"./models/checkpoint_model.pt\"\n",
    "EPOCH = 5\n",
    "LOSS = 0.4\n",
    "\n",
    "# model save\n",
    "torch.save({\n",
    "    'epoch': EPOCH,\n",
    "    'model_state_dict': net.state_dict(),\n",
    "    'optimizer_state_dict': optimizer.state_dict(),\n",
    "    'loss': LOSS,\n",
    "    }, PATH)"
   ]
  },
  {
   "cell_type": "code",
   "execution_count": 14,
   "id": "developing-sleep",
   "metadata": {},
   "outputs": [
    {
     "data": {
      "text/plain": [
       "NetA(\n",
       "  (conv1): Conv2d(3, 6, kernel_size=(5, 5), stride=(1, 1))\n",
       "  (pool): MaxPool2d(kernel_size=2, stride=2, padding=0, dilation=1, ceil_mode=False)\n",
       "  (conv2): Conv2d(6, 16, kernel_size=(5, 5), stride=(1, 1))\n",
       "  (fc1): Linear(in_features=400, out_features=120, bias=True)\n",
       "  (fc2): Linear(in_features=120, out_features=84, bias=True)\n",
       "  (fc3): Linear(in_features=84, out_features=10, bias=True)\n",
       ")"
      ]
     },
     "execution_count": 14,
     "metadata": {},
     "output_type": "execute_result"
    }
   ],
   "source": [
    "# model load\n",
    "model = NetA()\n",
    "optimizer = optim.SGD(net.parameters(), lr = 0.001, momentum = 0.9)\n",
    "\n",
    "checkpoint = torch.load(PATH)\n",
    "model.load_state_dict(checkpoint[\"model_state_dict\"])\n",
    "optimizer.load_state_dict(checkpoint[\"optimizer_state_dict\"])\n",
    "epoch = checkpoint[\"epoch\"]\n",
    "loss = checkpoint[\"loss\"]\n",
    "\n",
    "model.eval()\n",
    "# - or - \n",
    "model.train()"
   ]
  },
  {
   "cell_type": "markdown",
   "id": "arabic-launch",
   "metadata": {},
   "source": [
    "## 5.3 保存和加载多个模型"
   ]
  },
  {
   "cell_type": "code",
   "execution_count": 15,
   "id": "stylish-senator",
   "metadata": {},
   "outputs": [],
   "source": [
    "# models\n",
    "netA = NetA()\n",
    "netB = NetA()\n",
    "\n",
    "# optimizers\n",
    "optimizerA = optim.SGD(netA.parameters(), lr = 0.001, momentum = 0.9)\n",
    "optimizerB = optim.SGD(netB.parameters(), lr = 0.001, momentum = 0.9)"
   ]
  },
  {
   "cell_type": "code",
   "execution_count": 16,
   "id": "incorporated-oxygen",
   "metadata": {},
   "outputs": [],
   "source": [
    "# path of model save\n",
    "PATH = \"./models/model.pt\"\n",
    "\n",
    "# model save\n",
    "torch.save({\n",
    "    \"modelA_state_dict\": netA.state_dict(),\n",
    "    \"modelB_state_dict\": netB.state_dict(),\n",
    "    \"optimizerA_state_dict\": optimizerA.state_dict(),\n",
    "    \"optimizerB_state_dict\": optimizerB.state_dict(),\n",
    "}, PATH)"
   ]
  },
  {
   "cell_type": "code",
   "execution_count": 17,
   "id": "japanese-alabama",
   "metadata": {},
   "outputs": [
    {
     "data": {
      "text/plain": [
       "NetA(\n",
       "  (conv1): Conv2d(3, 6, kernel_size=(5, 5), stride=(1, 1))\n",
       "  (pool): MaxPool2d(kernel_size=2, stride=2, padding=0, dilation=1, ceil_mode=False)\n",
       "  (conv2): Conv2d(6, 16, kernel_size=(5, 5), stride=(1, 1))\n",
       "  (fc1): Linear(in_features=400, out_features=120, bias=True)\n",
       "  (fc2): Linear(in_features=120, out_features=84, bias=True)\n",
       "  (fc3): Linear(in_features=84, out_features=10, bias=True)\n",
       ")"
      ]
     },
     "execution_count": 17,
     "metadata": {},
     "output_type": "execute_result"
    }
   ],
   "source": [
    "# model load\n",
    "modelA = NetA()\n",
    "modelB = NetA()\n",
    "optimModelA = optim.SGD(modelA.parameters(), lr = 0.001, momentum = 0.9)\n",
    "optimModelB = optim.SGD(modelB.parameters(), lr = 0.001, momentum = 0.9)\n",
    "\n",
    "checkpoint = torch.load(PATH)\n",
    "modelA.load_state_dict(checkpoint[\"modelA_state_dict\"])\n",
    "modelB.load_state_dict(checkpoint[\"modelB_state_dict\"])\n",
    "optimizerA.load_state_dict(checkpoint[\"optimizerA_state_dict\"])\n",
    "optimizerB.load_state_dict(checkpoint[\"optimizerB_state_dict\"])\n",
    "\n",
    "modelA.eval()\n",
    "modelB.eval()\n",
    "# - or -\n",
    "modelA.train()\n",
    "modelB.train()"
   ]
  },
  {
   "cell_type": "markdown",
   "id": "supposed-starter",
   "metadata": {},
   "source": [
    "## 5.4 使用不同模型参数的热启动模型"
   ]
  },
  {
   "cell_type": "code",
   "execution_count": 18,
   "id": "innocent-attendance",
   "metadata": {},
   "outputs": [
    {
     "data": {
      "text/plain": [
       "<All keys matched successfully>"
      ]
     },
     "execution_count": 18,
     "metadata": {},
     "output_type": "execute_result"
    }
   ],
   "source": [
    "PATH = \"./models/A_model.pt\"\n",
    "\n",
    "# save model A\n",
    "torch.save(netA.state_dict(), PATH)\n",
    "\n",
    "# load model B\n",
    "netB.load_state_dict(torch.load(PATH), strict = False)"
   ]
  },
  {
   "cell_type": "markdown",
   "id": "distant-cisco",
   "metadata": {},
   "source": [
    "## 5.5 跨设备保存、加载模型"
   ]
  },
  {
   "cell_type": "markdown",
   "id": "alternative-escape",
   "metadata": {},
   "source": [
    "### 5.5.1 在 GPU 上保存、在 CPU 上加载"
   ]
  },
  {
   "cell_type": "code",
   "execution_count": 19,
   "id": "atmospheric-westminster",
   "metadata": {},
   "outputs": [
    {
     "data": {
      "text/plain": [
       "<All keys matched successfully>"
      ]
     },
     "execution_count": 19,
     "metadata": {},
     "output_type": "execute_result"
    }
   ],
   "source": [
    "PATH = \"./models/model.pt\"s\n",
    "\n",
    "# model save\n",
    "torch.save(net.state_dict(), PATH)\n",
    "\n",
    "# model load\n",
    "device = torch.device(\"cpu\")\n",
    "model = NetA()\n",
    "model.load_state_dict(torch.load(PATH, map_location = device))"
   ]
  },
  {
   "cell_type": "markdown",
   "id": "typical-quick",
   "metadata": {},
   "source": [
    "### 5.5.2 在 GPU 上保存、在 GPU 上加载"
   ]
  },
  {
   "cell_type": "code",
   "execution_count": 21,
   "id": "committed-purpose",
   "metadata": {},
   "outputs": [],
   "source": [
    "PATH = \"./models/model.pt\"\n",
    "\n",
    "# model save\n",
    "torch.save(net.state_dict(), PATH)\n",
    "\n",
    "# model load\n",
    "device = torch.device(\"cuda\")\n",
    "model = NetA()\n",
    "model.load_state_dict(torch.load(PATH))\n",
    "model.to(device)"
   ]
  },
  {
   "cell_type": "markdown",
   "id": "gentle-bruce",
   "metadata": {},
   "source": [
    "### 5.5.3 在 CPU 上保存、在 GPU 上加载"
   ]
  },
  {
   "cell_type": "code",
   "execution_count": null,
   "id": "public-translation",
   "metadata": {},
   "outputs": [],
   "source": [
    "PATH = \"./models/model.pt\"\n",
    "\n",
    "# model save\n",
    "torch.save(net.state_dict(), PATH)\n",
    "\n",
    "# model load\n",
    "device = torch.device(\"cuda\")\n",
    "model = NetA()\n",
    "model.load_state_dict(torch.load(PATH, map_location = \"cuda:0\"))\n",
    "model.to(device)"
   ]
  },
  {
   "cell_type": "markdown",
   "id": "armed-intent",
   "metadata": {},
   "source": [
    "### 5.5.4 保存 torch.nn.DataParallel 模型"
   ]
  },
  {
   "cell_type": "code",
   "execution_count": null,
   "id": "organizational-census",
   "metadata": {},
   "outputs": [],
   "source": [
    "PATH = \"./models/model.pt\"\n",
    "\n",
    "# model save\n",
    "torch.save(net.module.state_dict(), PATH)\n",
    "\n",
    "# load to any divce\n",
    "torch.load(PATH)\n",
    "\n",
    "# - or -\n",
    "model = NetA()\n",
    "model.load_state_dict(torch.load())"
   ]
  }
 ],
 "metadata": {
  "kernelspec": {
   "display_name": "Python 3",
   "language": "python",
   "name": "python3"
  },
  "language_info": {
   "codemirror_mode": {
    "name": "ipython",
    "version": 3
   },
   "file_extension": ".py",
   "mimetype": "text/x-python",
   "name": "python",
   "nbconvert_exporter": "python",
   "pygments_lexer": "ipython3",
   "version": "3.7.10"
  }
 },
 "nbformat": 4,
 "nbformat_minor": 5
}
